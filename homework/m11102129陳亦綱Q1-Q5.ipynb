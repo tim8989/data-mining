{
 "cells": [
  {
   "cell_type": "code",
   "execution_count": null,
   "metadata": {
    "vscode": {
     "languageId": "plaintext"
    }
   },
   "outputs": [],
   "source": []
  },
  {
   "cell_type": "code",
   "execution_count": null,
   "metadata": {
    "vscode": {
     "languageId": "plaintext"
    }
   },
   "outputs": [],
   "source": [
    "import numpy as np\n",
    "import matplotlib.pyplot as plt\n",
    "from sklearn.cluster import KMeans\n",
    "from sklearn.datasets import make_blobs\n",
    "\n",
    "# 隨機生成 2 維資料點，設定為 2, 4, 6 群組\n",
    "X, y = make_blobs(n_samples=300, centers=6, cluster_std=0.60, random_state=0)\n",
    "\n",
    "# 設定不同的群組數量\n",
    "k_values = [2, 4, 6]\n",
    "\n",
    "# 創建子圖，顯示不同 K 值的結果\n",
    "fig, axs = plt.subplots(1, len(k_values), figsize=(15, 5))\n",
    "\n",
    "for idx, k in enumerate(k_values):\n",
    "    # 設定 K-means 進行聚類\n",
    "    kmeans = KMeans(n_clusters=k, random_state=0)\n",
    "    kmeans.fit(X)\n",
    "    \n",
    "    # 繪製結果\n",
    "    axs[idx].scatter(X[:, 0], X[:, 1], c=kmeans.labels_, cmap='viridis')\n",
    "    centers = kmeans.cluster_centers_\n",
    "    axs[idx].scatter(centers[:, 0], centers[:, 1], c='red', marker='X', s=200, label='Cluster Centers')\n",
    "    axs[idx].set_title(f'K-means with k={k}')\n",
    "    axs[idx].legend()\n",
    "\n",
    "plt.tight_layout()\n",
    "plt.show()"
   ]
  }
 ],
 "metadata": {
  "language_info": {
   "name": "python"
  }
 },
 "nbformat": 4,
 "nbformat_minor": 2
}
